{
 "cells": [
  {
   "cell_type": "markdown",
   "id": "806a3d25",
   "metadata": {},
   "source": [
    "1.Write a Python program to find those numbers which are divisible by 7\n",
    "and multiple of 5, between 1500 and 2700 (both included)."
   ]
  },
  {
   "cell_type": "code",
   "execution_count": 1,
   "id": "e94e6eda",
   "metadata": {},
   "outputs": [
    {
     "name": "stdout",
     "output_type": "stream",
     "text": [
      "[1505, 1540, 1575, 1610, 1645, 1680, 1715, 1750, 1785, 1820, 1855, 1890, 1925, 1960, 1995, 2030, 2065, 2100, 2135, 2170, 2205, 2240, 2275, 2310, 2345, 2380, 2415, 2450, 2485, 2520, 2555, 2590, 2625, 2660, 2695]\n"
     ]
    }
   ],
   "source": [
    "numbers=[]\n",
    "for x in range(1500,2701):\n",
    "    if (x%7==0) and (x%5==0):\n",
    "        numbers.append(int(x))\n",
    "print(numbers)"
   ]
  },
  {
   "cell_type": "markdown",
   "id": "059b1b04",
   "metadata": {},
   "source": [
    "2. Python program to add two numbers"
   ]
  },
  {
   "cell_type": "code",
   "execution_count": 3,
   "id": "6827f4c0",
   "metadata": {},
   "outputs": [
    {
     "name": "stdout",
     "output_type": "stream",
     "text": [
      "enter a number:25\n",
      "enter a number:15\n",
      "sum= 40\n"
     ]
    }
   ],
   "source": [
    "a=int(input('enter a number:'))\n",
    "b=int(input('enter a number:'))\n",
    "c=a+b\n",
    "print('sum=',c)"
   ]
  },
  {
   "cell_type": "markdown",
   "id": "19ddc5b9",
   "metadata": {},
   "source": [
    "3. Maximum of two numbers in Python"
   ]
  },
  {
   "cell_type": "code",
   "execution_count": 4,
   "id": "17dd44f7",
   "metadata": {},
   "outputs": [
    {
     "name": "stdout",
     "output_type": "stream",
     "text": [
      "enter a number:198\n",
      "enter a number:189\n",
      "a is maximum\n"
     ]
    }
   ],
   "source": [
    "a=int(input('enter a number:'))\n",
    "b=int(input('enter a number:'))\n",
    "if a>b:\n",
    "    print('a is maximum')\n",
    "if b>a:\n",
    "    print('b is maximum')"
   ]
  },
  {
   "cell_type": "markdown",
   "id": "fa7bf75f",
   "metadata": {},
   "source": [
    "4. Python Program for factorial of a number"
   ]
  },
  {
   "cell_type": "code",
   "execution_count": 10,
   "id": "583988c3",
   "metadata": {},
   "outputs": [
    {
     "name": "stdout",
     "output_type": "stream",
     "text": [
      "enter a number7\n",
      "The factorial of 7 is 5040\n"
     ]
    }
   ],
   "source": [
    "num=int(input('enter a number'))\n",
    "fact=1\n",
    "a=1\n",
    "while a<=num:\n",
    "    fact=fact*a\n",
    "    a=a+1\n",
    "print('The factorial of',num ,'is',fact)    "
   ]
  },
  {
   "cell_type": "markdown",
   "id": "c5b7ca33",
   "metadata": {},
   "source": [
    "5. Python Program for simple interest"
   ]
  },
  {
   "cell_type": "code",
   "execution_count": 12,
   "id": "d66cffd8",
   "metadata": {},
   "outputs": [
    {
     "name": "stdout",
     "output_type": "stream",
     "text": [
      "enter a number:200\n",
      "enter a number:10\n",
      "enter a number:3\n",
      "Simple Interest= 60.0\n"
     ]
    }
   ],
   "source": [
    "principal=int(input('enter a number:'))\n",
    "time_in_years=int(input('enter a number:'))\n",
    "rate_of_interest=int(input('enter a number:'))\n",
    "a=principal*time_in_years*rate_of_interest/100\n",
    "print('Simple Interest=',a)"
   ]
  },
  {
   "cell_type": "markdown",
   "id": "f5dff663",
   "metadata": {},
   "source": [
    "6. Python Program for compound interest"
   ]
  },
  {
   "cell_type": "code",
   "execution_count": 14,
   "id": "85c2018e",
   "metadata": {},
   "outputs": [
    {
     "name": "stdout",
     "output_type": "stream",
     "text": [
      "enter a number:1000\n",
      "enter a number:5\n",
      "enter a number:10\n",
      "compound interest= 610.5100000000004\n"
     ]
    }
   ],
   "source": [
    "principal=int(input('enter a number:'))\n",
    "time_in_years=int(input('enter a number:'))\n",
    "rate_of_interest=int(input('enter a number:'))\n",
    "a= principal*((1+rate_of_interest/100)**time_in_years)-principal\n",
    "print('compound interest=',a)"
   ]
  },
  {
   "cell_type": "markdown",
   "id": "6757d744",
   "metadata": {},
   "source": [
    "7. Python Program to check Armstrong Number"
   ]
  },
  {
   "cell_type": "code",
   "execution_count": 17,
   "id": "cc23c251",
   "metadata": {},
   "outputs": [
    {
     "name": "stdout",
     "output_type": "stream",
     "text": [
      "enter a number:153\n",
      "Armstrong\n"
     ]
    }
   ],
   "source": [
    "num=input('enter a number:')\n",
    "sum=0\n",
    "for i in num:\n",
    "    sum+=int(i)**3\n",
    "if sum==int(num):\n",
    "    print('Armstrong')\n",
    "else:\n",
    "    print('not armstrong')\n",
    "    "
   ]
  },
  {
   "cell_type": "markdown",
   "id": "6d9fd424",
   "metadata": {},
   "source": [
    "8. Python Program for Program to find area of a circle"
   ]
  },
  {
   "cell_type": "code",
   "execution_count": 18,
   "id": "4fc09e7f",
   "metadata": {},
   "outputs": [
    {
     "name": "stdout",
     "output_type": "stream",
     "text": [
      "enter a number25\n",
      "Area= 78.55\n"
     ]
    }
   ],
   "source": [
    "pi=3.142\n",
    "radius=int(input('enter a number'))\n",
    "a= pi*r**2\n",
    "print('Area=',a)"
   ]
  },
  {
   "cell_type": "markdown",
   "id": "64bd269b",
   "metadata": {},
   "source": [
    "9. Python program to print all Prime numbers in an Interval"
   ]
  },
  {
   "cell_type": "code",
   "execution_count": 45,
   "id": "8631872c",
   "metadata": {},
   "outputs": [
    {
     "name": "stdout",
     "output_type": "stream",
     "text": [
      "enter the starting interval20\n",
      "enter the starting interval50\n",
      "23\n",
      "29\n",
      "31\n",
      "37\n",
      "41\n",
      "43\n",
      "47\n"
     ]
    }
   ],
   "source": [
    "start= int(input('enter the starting interval'))\n",
    "end= int(input('enter the starting interval'))\n",
    "\n",
    "for num in range(start, end+1):\n",
    "    \n",
    "    if num>1:\n",
    "        for i in range(2,num):\n",
    "            if num%i==0:\n",
    "                break\n",
    "        else:\n",
    "            print(num)\n",
    "                \n",
    "    "
   ]
  },
  {
   "cell_type": "code",
   "execution_count": null,
   "id": "37fa509d",
   "metadata": {},
   "outputs": [],
   "source": []
  },
  {
   "cell_type": "markdown",
   "id": "f11d5f4d",
   "metadata": {},
   "source": [
    "10. Python program to check whether a number is Prime or not"
   ]
  },
  {
   "cell_type": "code",
   "execution_count": 34,
   "id": "86d31f68",
   "metadata": {},
   "outputs": [
    {
     "name": "stdout",
     "output_type": "stream",
     "text": [
      "enter a number29\n",
      "prime\n"
     ]
    }
   ],
   "source": [
    "num=int(input('enter a number'))\n",
    "if num<=1:\n",
    "    print ('not prime')\n",
    "else:\n",
    "    for i in range(2,num):\n",
    "        if (num%i)==0:\n",
    "            print('not prime')\n",
    "            break\n",
    "    else:\n",
    "        print('prime')"
   ]
  },
  {
   "cell_type": "code",
   "execution_count": null,
   "id": "7cfd67d7",
   "metadata": {},
   "outputs": [],
   "source": []
  }
 ],
 "metadata": {
  "kernelspec": {
   "display_name": "Python 3 (ipykernel)",
   "language": "python",
   "name": "python3"
  },
  "language_info": {
   "codemirror_mode": {
    "name": "ipython",
    "version": 3
   },
   "file_extension": ".py",
   "mimetype": "text/x-python",
   "name": "python",
   "nbconvert_exporter": "python",
   "pygments_lexer": "ipython3",
   "version": "3.9.7"
  }
 },
 "nbformat": 4,
 "nbformat_minor": 5
}
